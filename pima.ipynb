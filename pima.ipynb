{
 "cells": [
  {
   "cell_type": "code",
   "execution_count": 1,
   "metadata": {},
   "outputs": [],
   "source": [
    "# Import relevant modules\n",
    "import pandas as pd\n",
    "import numpy as np\n",
    "import matplotlib.pyplot as plt"
   ]
  },
  {
   "cell_type": "code",
   "execution_count": 2,
   "metadata": {},
   "outputs": [
    {
     "data": {
      "text/html": [
       "<div>\n",
       "<style scoped>\n",
       "    .dataframe tbody tr th:only-of-type {\n",
       "        vertical-align: middle;\n",
       "    }\n",
       "\n",
       "    .dataframe tbody tr th {\n",
       "        vertical-align: top;\n",
       "    }\n",
       "\n",
       "    .dataframe thead th {\n",
       "        text-align: right;\n",
       "    }\n",
       "</style>\n",
       "<table border=\"1\" class=\"dataframe\">\n",
       "  <thead>\n",
       "    <tr style=\"text-align: right;\">\n",
       "      <th></th>\n",
       "      <th>V1</th>\n",
       "      <th>V2</th>\n",
       "      <th>V3</th>\n",
       "      <th>V4</th>\n",
       "      <th>V5</th>\n",
       "      <th>V6</th>\n",
       "      <th>V7</th>\n",
       "      <th>V8</th>\n",
       "    </tr>\n",
       "  </thead>\n",
       "  <tbody>\n",
       "    <tr>\n",
       "      <th>0</th>\n",
       "      <td>8</td>\n",
       "      <td>194</td>\n",
       "      <td>80</td>\n",
       "      <td>0</td>\n",
       "      <td>0</td>\n",
       "      <td>26.1</td>\n",
       "      <td>0.551</td>\n",
       "      <td>67</td>\n",
       "    </tr>\n",
       "    <tr>\n",
       "      <th>1</th>\n",
       "      <td>1</td>\n",
       "      <td>118</td>\n",
       "      <td>58</td>\n",
       "      <td>36</td>\n",
       "      <td>94</td>\n",
       "      <td>33.3</td>\n",
       "      <td>0.261</td>\n",
       "      <td>23</td>\n",
       "    </tr>\n",
       "    <tr>\n",
       "      <th>2</th>\n",
       "      <td>2</td>\n",
       "      <td>142</td>\n",
       "      <td>82</td>\n",
       "      <td>18</td>\n",
       "      <td>64</td>\n",
       "      <td>24.7</td>\n",
       "      <td>0.761</td>\n",
       "      <td>21</td>\n",
       "    </tr>\n",
       "    <tr>\n",
       "      <th>3</th>\n",
       "      <td>3</td>\n",
       "      <td>103</td>\n",
       "      <td>72</td>\n",
       "      <td>30</td>\n",
       "      <td>152</td>\n",
       "      <td>27.6</td>\n",
       "      <td>0.730</td>\n",
       "      <td>27</td>\n",
       "    </tr>\n",
       "    <tr>\n",
       "      <th>4</th>\n",
       "      <td>5</td>\n",
       "      <td>147</td>\n",
       "      <td>75</td>\n",
       "      <td>0</td>\n",
       "      <td>0</td>\n",
       "      <td>29.9</td>\n",
       "      <td>0.434</td>\n",
       "      <td>28</td>\n",
       "    </tr>\n",
       "  </tbody>\n",
       "</table>\n",
       "</div>"
      ],
      "text/plain": [
       "   V1   V2  V3  V4   V5    V6     V7  V8\n",
       "0   8  194  80   0    0  26.1  0.551  67\n",
       "1   1  118  58  36   94  33.3  0.261  23\n",
       "2   2  142  82  18   64  24.7  0.761  21\n",
       "3   3  103  72  30  152  27.6  0.730  27\n",
       "4   5  147  75   0    0  29.9  0.434  28"
      ]
     },
     "execution_count": 2,
     "metadata": {},
     "output_type": "execute_result"
    }
   ],
   "source": [
    "# Import data\n",
    "X_train = pd.read_csv(\"Pima/X_train.csv\") \n",
    "X_test = pd.read_csv(\"Pima/X_test.csv\")\n",
    "y_train = pd.read_csv(\"Pima/y_train.csv\")\n",
    "y_test = pd.read_csv(\"Pima/y_test.csv\")\n",
    "\n",
    "# Delete columns containing the original indices\n",
    "del X_train[\"Unnamed: 0\"] \n",
    "del X_test[\"Unnamed: 0\"] \n",
    "del y_train[\"Unnamed: 0\"] \n",
    "del y_test[\"Unnamed: 0\"] \n",
    "\n",
    "# Rename columns\n",
    "y_train.columns = [\"Label\"]\n",
    "y_test.columns = [\"Label\"]\n",
    "\n",
    "# Inspect data\n",
    "X_train.head()"
   ]
  },
  {
   "cell_type": "code",
   "execution_count": 3,
   "metadata": {},
   "outputs": [
    {
     "name": "stdout",
     "output_type": "stream",
     "text": [
      "0\n",
      "0\n",
      "0\n",
      "0\n"
     ]
    }
   ],
   "source": [
    "# Check for missing values\n",
    "print(X_train.isna().sum().sum())\n",
    "print(X_test.isna().sum().sum())\n",
    "print(y_train.isna().sum().sum())\n",
    "print(y_test.isna().sum().sum())"
   ]
  },
  {
   "cell_type": "code",
   "execution_count": 4,
   "metadata": {},
   "outputs": [],
   "source": [
    "# Change to NumPy arrays\n",
    "X_train = np.array(X_train)\n",
    "X_test = np.array(X_test)\n",
    "y_train = np.array(y_train[\"Label\"])\n",
    "y_test = np.array(y_test[\"Label\"])"
   ]
  },
  {
   "cell_type": "code",
   "execution_count": 5,
   "metadata": {},
   "outputs": [],
   "source": [
    "# Scale the design matrix\n",
    "from sklearn.preprocessing import StandardScaler\n",
    "\n",
    "scaler = StandardScaler(with_mean=False)\n",
    "X_train = scaler.fit_transform(X_train) # Must not use test data to determine the scaling\n",
    "X_test = scaler.transform(X_test)\n",
    "\n",
    "# This scaler uses a biased estimator for the standard deviation, equivalent to numpy.std(x, ddof=0)\n",
    "# Therefore, this scaling is identical to that in the notes"
   ]
  },
  {
   "cell_type": "code",
   "execution_count": 6,
   "metadata": {},
   "outputs": [],
   "source": [
    "# Implement logistic regression without regularisation\n",
    "from sklearn.linear_model import LogisticRegression\n",
    "\n",
    "log = LogisticRegression(penalty=\"none\", max_iter=1000, solver='lbfgs') # lbfgs and saga give the same results\n",
    "log.fit(X_train, y_train)\n",
    "y_pred_train = log.predict(X_train)\n",
    "y_pred_test = log.predict(X_test)"
   ]
  },
  {
   "cell_type": "code",
   "execution_count": 7,
   "metadata": {},
   "outputs": [
    {
     "name": "stdout",
     "output_type": "stream",
     "text": [
      "The empirical risk on the training data is 0.2182\n",
      "The empirical risk on the test data is 0.2338\n"
     ]
    }
   ],
   "source": [
    "# Calculate empirical risk using zero-one loss\n",
    "from sklearn.metrics import zero_one_loss\n",
    "\n",
    "zero_one_train = zero_one_loss(y_train, y_pred_train, normalize=True) # On training data\n",
    "zero_one_test = zero_one_loss(y_test, y_pred_test, normalize=True) # On test data\n",
    "print(f\"The empirical risk on the training data is {zero_one_train:.4f}\")\n",
    "print(f\"The empirical risk on the test data is {zero_one_test:.4f}\")"
   ]
  },
  {
   "cell_type": "code",
   "execution_count": 8,
   "metadata": {},
   "outputs": [
    {
     "name": "stdout",
     "output_type": "stream",
     "text": [
      "The empirical risk on the training data is 0.4758\n",
      "The empirical risk on the training data is 0.4579\n"
     ]
    }
   ],
   "source": [
    "# Calculate empirical risk using logistic loss\n",
    "from sklearn.metrics import log_loss\n",
    "\n",
    "logistic_train = log_loss(y_train, log.predict_proba(X_train), normalize=True) # On training data\n",
    "logistic_test = log_loss(y_test, log.predict_proba(X_test), normalize=True) # On test data\n",
    "print(f\"The empirical risk on the training data is {logistic_train:.4f}\")\n",
    "print(f\"The empirical risk on the training data is {logistic_test:.4f}\")"
   ]
  },
  {
   "cell_type": "code",
   "execution_count": 9,
   "metadata": {},
   "outputs": [],
   "source": [
    "# Implement logistic regression with regularisation\n",
    "\n",
    "# Use different regularisation strengths\n",
    "lambda_list = np.linspace(0.001, 0.25, 100)\n",
    "np.insert(lambda_list, 0, 10^-20) # Add in lambda = 0 (but not exactly zero, or C will be undefined)\n",
    "\n",
    "# Create arrays to store results\n",
    "risk_train_ridge = []\n",
    "risk_test_ridge = []\n",
    "risk_train_lasso = []\n",
    "risk_test_lasso = []\n",
    "\n",
    "n = len(X_train)\n",
    "\n",
    "# Iterate through lambda values\n",
    "for l in lambda_list:\n",
    "    \n",
    "    # Ridge penalty\n",
    "    log_ridge = LogisticRegression(penalty=\"l2\", C=1/(2*l*n), solver='lbfgs' \n",
    "                                   , max_iter=1000, random_state=2083836)\n",
    "    log_ridge.fit(X_train, y_train)\n",
    "    risk_train_ridge.append(log_loss(y_train, log_ridge.predict_proba(X_train), normalize=True))\n",
    "    risk_test_ridge.append(log_loss(y_test, log_ridge.predict_proba(X_test), normalize=True))\n",
    "    \n",
    "    # Lasso penalty\n",
    "    log_lasso = LogisticRegression(penalty=\"l1\", C=1/(l*n), solver=\"saga\", \n",
    "                                   max_iter=1000, random_state=2083836) # saga supports lasso\n",
    "    log_lasso.fit(X_train, y_train)\n",
    "    risk_train_lasso.append(log_loss(y_train, log_lasso.predict_proba(X_train), normalize=True))\n",
    "    risk_test_lasso.append(log_loss(y_test, log_lasso.predict_proba(X_test), normalize=True))"
   ]
  },
  {
   "cell_type": "code",
   "execution_count": 10,
   "metadata": {},
   "outputs": [
    {
     "data": {
      "image/png": "[encoded data removed]",
      "text/plain": [
       "<Figure size 360x360 with 1 Axes>"
      ]
     },
     "metadata": {
      "needs_background": "light"
     },
     "output_type": "display_data"
    }
   ],
   "source": [
    "# Plot graphs to visualise effect of lambda on empirical risk\n",
    "plt.figure(figsize=(5, 5))\n",
    "plt.plot(lambda_list, risk_train_ridge, label=\"Ridge, Training\", lw=3)\n",
    "plt.plot(lambda_list, risk_test_ridge, label=\"Ridge, Test\", lw=3)\n",
    "plt.plot(lambda_list, risk_train_lasso, label=\"Lasso, Training\", lw=3)\n",
    "plt.plot(lambda_list, risk_test_lasso, label=\"Lasso, Test\", lw=3)\n",
    "plt.xlabel(\"$\\lambda$\", fontsize=14)\n",
    "plt.ylabel(\"Empirical Risk\", fontsize=14)\n",
    "plt.legend(fontsize=12, loc=\"upper left\")\n",
    "plt.title(\"Pima Indians Diabetes\", fontsize=14)\n",
    "plt.tight_layout()\n",
    "plt.savefig(\"pima-logistic.png\")\n",
    "plt.show()"
   ]
  },
  {
   "cell_type": "code",
   "execution_count": 11,
   "metadata": {},
   "outputs": [
    {
     "name": "stdout",
     "output_type": "stream",
     "text": [
      "0.2142857142857143\n",
      "0.4874525766236942\n",
      "0.2597402597402597\n",
      "0.5614427592547805\n"
     ]
    }
   ],
   "source": [
    "# Verify method\n",
    "X_train_verify = pd.read_csv(\"Pima/X_train_verify.csv\") \n",
    "X_test_verify = pd.read_csv(\"Pima/X_test_verify.csv\")\n",
    "y_train_verify = pd.read_csv(\"Pima/y_train_verify.csv\")\n",
    "y_test_verify = pd.read_csv(\"Pima/y_test_verify.csv\")\n",
    "\n",
    "del X_train_verify[\"Unnamed: 0\"] \n",
    "del X_test_verify[\"Unnamed: 0\"] \n",
    "del y_train_verify[\"Unnamed: 0\"] \n",
    "del y_test_verify[\"Unnamed: 0\"] \n",
    "\n",
    "y_train_verify.columns = [\"Label\"]\n",
    "y_test_verify.columns = [\"Label\"]\n",
    "     \n",
    "        \n",
    "X_train_verify = np.array(X_train_verify)\n",
    "X_test_verify = np.array(X_test_verify)\n",
    "y_train_verify = np.array(y_train_verify[\"Label\"])\n",
    "y_test_verify = np.array(y_test_verify[\"Label\"])\n",
    "\n",
    "scaler = StandardScaler(with_mean=False)\n",
    "X_train_verify = scaler.fit_transform(X_train_verify) # Must not use test data to determine the scaling\n",
    "X_test_verify = scaler.transform(X_test_verify) \n",
    "\n",
    "log_verify = LogisticRegression(penalty=\"l2\", C=1/(2*0.05*len(X_train_verify)), \n",
    "                                max_iter=1000, solver='lbfgs', random_state=2083836)\n",
    "log_verify.fit(X_train_verify, y_train_verify)\n",
    "print(zero_one_loss(y_test_verify, log_verify.predict(X_test_verify), normalize=True))\n",
    "print(log_loss(y_test_verify, log_verify.predict_proba(X_test_verify), normalize=True))\n",
    "\n",
    "log_verify2 = LogisticRegression(penalty=\"l1\", C=1/(0.1*len(X_train_verify)), max_iter=3000, \n",
    "                                 solver=\"saga\", random_state=2083836)\n",
    "log_verify2.fit(X_train_verify, y_train_verify)\n",
    "print(zero_one_loss(y_test_verify, log_verify2.predict(X_test_verify), normalize=True))\n",
    "print(log_loss(y_test_verify, log_verify2.predict_proba(X_test_verify), normalize=True))\n",
    "\n",
    "# Sklearn's implementation of zero-one loss is the same as the supplied function\n",
    "# Zero-one loss is correct to 7 decimal points; implies ridge and lasso are correct\n",
    "\n",
    "# For ridge and lasso, logistic loss is correct to 5 and 3 decimal points respectively"
   ]
  },
  {
   "cell_type": "code",
   "execution_count": null,
   "metadata": {},
   "outputs": [],
   "source": []
  }
 ],
 "metadata": {
  "kernelspec": {
   "display_name": "Python 3",
   "language": "python",
   "name": "python3"
  },
  "language_info": {
   "codemirror_mode": {
    "name": "ipython",
    "version": 3
   },
   "file_extension": ".py",
   "mimetype": "text/x-python",
   "name": "python",
   "nbconvert_exporter": "python",
   "pygments_lexer": "ipython3",
   "version": "3.7.6"
  }
 },
 "nbformat": 4,
 "nbformat_minor": 4
}
