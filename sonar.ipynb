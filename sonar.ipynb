{
 "cells": [
  {
   "cell_type": "code",
   "execution_count": 1,
   "metadata": {},
   "outputs": [],
   "source": [
    "# Import relevant modules\n",
    "import pandas as pd\n",
    "import numpy as np\n",
    "import matplotlib.pyplot as plt"
   ]
  },
  {
   "cell_type": "code",
   "execution_count": 2,
   "metadata": {},
   "outputs": [
    {
     "data": {
      "text/html": [
       "<div>\n",
       "<style scoped>\n",
       "    .dataframe tbody tr th:only-of-type {\n",
       "        vertical-align: middle;\n",
       "    }\n",
       "\n",
       "    .dataframe tbody tr th {\n",
       "        vertical-align: top;\n",
       "    }\n",
       "\n",
       "    .dataframe thead th {\n",
       "        text-align: right;\n",
       "    }\n",
       "</style>\n",
       "<table border=\"1\" class=\"dataframe\">\n",
       "  <thead>\n",
       "    <tr style=\"text-align: right;\">\n",
       "      <th></th>\n",
       "      <th>V1</th>\n",
       "      <th>V2</th>\n",
       "      <th>V3</th>\n",
       "      <th>V4</th>\n",
       "      <th>V5</th>\n",
       "      <th>V6</th>\n",
       "      <th>V7</th>\n",
       "      <th>V8</th>\n",
       "      <th>V9</th>\n",
       "      <th>V10</th>\n",
       "      <th>...</th>\n",
       "      <th>V51</th>\n",
       "      <th>V52</th>\n",
       "      <th>V53</th>\n",
       "      <th>V54</th>\n",
       "      <th>V55</th>\n",
       "      <th>V56</th>\n",
       "      <th>V57</th>\n",
       "      <th>V58</th>\n",
       "      <th>V59</th>\n",
       "      <th>V60</th>\n",
       "    </tr>\n",
       "  </thead>\n",
       "  <tbody>\n",
       "    <tr>\n",
       "      <th>0</th>\n",
       "      <td>0.0968</td>\n",
       "      <td>0.0821</td>\n",
       "      <td>0.0629</td>\n",
       "      <td>0.0608</td>\n",
       "      <td>0.0617</td>\n",
       "      <td>0.1207</td>\n",
       "      <td>0.0944</td>\n",
       "      <td>0.4223</td>\n",
       "      <td>0.5744</td>\n",
       "      <td>0.5025</td>\n",
       "      <td>...</td>\n",
       "      <td>0.0206</td>\n",
       "      <td>0.0073</td>\n",
       "      <td>0.0081</td>\n",
       "      <td>0.0303</td>\n",
       "      <td>0.0190</td>\n",
       "      <td>0.0212</td>\n",
       "      <td>0.0126</td>\n",
       "      <td>0.0201</td>\n",
       "      <td>0.0210</td>\n",
       "      <td>0.0041</td>\n",
       "    </tr>\n",
       "    <tr>\n",
       "      <th>1</th>\n",
       "      <td>0.0311</td>\n",
       "      <td>0.0491</td>\n",
       "      <td>0.0692</td>\n",
       "      <td>0.0831</td>\n",
       "      <td>0.0079</td>\n",
       "      <td>0.0200</td>\n",
       "      <td>0.0981</td>\n",
       "      <td>0.1016</td>\n",
       "      <td>0.2025</td>\n",
       "      <td>0.0767</td>\n",
       "      <td>...</td>\n",
       "      <td>0.0089</td>\n",
       "      <td>0.0087</td>\n",
       "      <td>0.0032</td>\n",
       "      <td>0.0130</td>\n",
       "      <td>0.0188</td>\n",
       "      <td>0.0101</td>\n",
       "      <td>0.0229</td>\n",
       "      <td>0.0182</td>\n",
       "      <td>0.0046</td>\n",
       "      <td>0.0038</td>\n",
       "    </tr>\n",
       "    <tr>\n",
       "      <th>2</th>\n",
       "      <td>0.0201</td>\n",
       "      <td>0.0026</td>\n",
       "      <td>0.0138</td>\n",
       "      <td>0.0062</td>\n",
       "      <td>0.0133</td>\n",
       "      <td>0.0151</td>\n",
       "      <td>0.0541</td>\n",
       "      <td>0.0210</td>\n",
       "      <td>0.0505</td>\n",
       "      <td>0.1097</td>\n",
       "      <td>...</td>\n",
       "      <td>0.0072</td>\n",
       "      <td>0.0108</td>\n",
       "      <td>0.0070</td>\n",
       "      <td>0.0063</td>\n",
       "      <td>0.0030</td>\n",
       "      <td>0.0011</td>\n",
       "      <td>0.0007</td>\n",
       "      <td>0.0024</td>\n",
       "      <td>0.0057</td>\n",
       "      <td>0.0044</td>\n",
       "    </tr>\n",
       "    <tr>\n",
       "      <th>3</th>\n",
       "      <td>0.0180</td>\n",
       "      <td>0.0444</td>\n",
       "      <td>0.0476</td>\n",
       "      <td>0.0698</td>\n",
       "      <td>0.1615</td>\n",
       "      <td>0.0887</td>\n",
       "      <td>0.0596</td>\n",
       "      <td>0.1071</td>\n",
       "      <td>0.3175</td>\n",
       "      <td>0.2918</td>\n",
       "      <td>...</td>\n",
       "      <td>0.0122</td>\n",
       "      <td>0.0122</td>\n",
       "      <td>0.0114</td>\n",
       "      <td>0.0098</td>\n",
       "      <td>0.0027</td>\n",
       "      <td>0.0025</td>\n",
       "      <td>0.0026</td>\n",
       "      <td>0.0050</td>\n",
       "      <td>0.0073</td>\n",
       "      <td>0.0022</td>\n",
       "    </tr>\n",
       "    <tr>\n",
       "      <th>4</th>\n",
       "      <td>0.0094</td>\n",
       "      <td>0.0333</td>\n",
       "      <td>0.0306</td>\n",
       "      <td>0.0376</td>\n",
       "      <td>0.1296</td>\n",
       "      <td>0.1795</td>\n",
       "      <td>0.1909</td>\n",
       "      <td>0.1692</td>\n",
       "      <td>0.1870</td>\n",
       "      <td>0.1725</td>\n",
       "      <td>...</td>\n",
       "      <td>0.0216</td>\n",
       "      <td>0.0153</td>\n",
       "      <td>0.0112</td>\n",
       "      <td>0.0241</td>\n",
       "      <td>0.0164</td>\n",
       "      <td>0.0055</td>\n",
       "      <td>0.0078</td>\n",
       "      <td>0.0055</td>\n",
       "      <td>0.0091</td>\n",
       "      <td>0.0067</td>\n",
       "    </tr>\n",
       "  </tbody>\n",
       "</table>\n",
       "<p>5 rows × 60 columns</p>\n",
       "</div>"
      ],
      "text/plain": [
       "       V1      V2      V3      V4      V5      V6      V7      V8      V9  \\\n",
       "0  0.0968  0.0821  0.0629  0.0608  0.0617  0.1207  0.0944  0.4223  0.5744   \n",
       "1  0.0311  0.0491  0.0692  0.0831  0.0079  0.0200  0.0981  0.1016  0.2025   \n",
       "2  0.0201  0.0026  0.0138  0.0062  0.0133  0.0151  0.0541  0.0210  0.0505   \n",
       "3  0.0180  0.0444  0.0476  0.0698  0.1615  0.0887  0.0596  0.1071  0.3175   \n",
       "4  0.0094  0.0333  0.0306  0.0376  0.1296  0.1795  0.1909  0.1692  0.1870   \n",
       "\n",
       "      V10  ...     V51     V52     V53     V54     V55     V56     V57  \\\n",
       "0  0.5025  ...  0.0206  0.0073  0.0081  0.0303  0.0190  0.0212  0.0126   \n",
       "1  0.0767  ...  0.0089  0.0087  0.0032  0.0130  0.0188  0.0101  0.0229   \n",
       "2  0.1097  ...  0.0072  0.0108  0.0070  0.0063  0.0030  0.0011  0.0007   \n",
       "3  0.2918  ...  0.0122  0.0122  0.0114  0.0098  0.0027  0.0025  0.0026   \n",
       "4  0.1725  ...  0.0216  0.0153  0.0112  0.0241  0.0164  0.0055  0.0078   \n",
       "\n",
       "      V58     V59     V60  \n",
       "0  0.0201  0.0210  0.0041  \n",
       "1  0.0182  0.0046  0.0038  \n",
       "2  0.0024  0.0057  0.0044  \n",
       "3  0.0050  0.0073  0.0022  \n",
       "4  0.0055  0.0091  0.0067  \n",
       "\n",
       "[5 rows x 60 columns]"
      ]
     },
     "execution_count": 2,
     "metadata": {},
     "output_type": "execute_result"
    }
   ],
   "source": [
    "# Import data\n",
    "X_train = pd.read_csv(\"Sonar/X_train.csv\") \n",
    "X_test = pd.read_csv(\"Sonar/X_test.csv\")\n",
    "y_train = pd.read_csv(\"Sonar/y_train.csv\")\n",
    "y_test = pd.read_csv(\"Sonar/y_test.csv\")\n",
    "\n",
    "# Delete columns containing the original indices\n",
    "del X_train[\"Unnamed: 0\"] \n",
    "del X_test[\"Unnamed: 0\"] \n",
    "del y_train[\"Unnamed: 0\"] \n",
    "del y_test[\"Unnamed: 0\"] \n",
    "\n",
    "# Rename columns\n",
    "y_train.columns = [\"Label\"]\n",
    "y_test.columns = [\"Label\"]\n",
    "\n",
    "# Inspect data\n",
    "X_train.head()"
   ]
  },
  {
   "cell_type": "code",
   "execution_count": 3,
   "metadata": {},
   "outputs": [],
   "source": [
    "# Change to NumPy arrays\n",
    "X_train = np.array(X_train)\n",
    "X_test = np.array(X_test)\n",
    "y_train = np.array(y_train[\"Label\"])\n",
    "y_test = np.array(y_test[\"Label\"])"
   ]
  },
  {
   "cell_type": "code",
   "execution_count": 4,
   "metadata": {},
   "outputs": [],
   "source": [
    "# Scale the design matrix\n",
    "from sklearn.preprocessing import StandardScaler\n",
    "\n",
    "scaler = StandardScaler(with_mean=False)\n",
    "X_train = scaler.fit_transform(X_train) # Must not use test data to determine the scaling\n",
    "X_test = scaler.transform(X_test) "
   ]
  },
  {
   "cell_type": "code",
   "execution_count": 5,
   "metadata": {},
   "outputs": [
    {
     "data": {
      "text/plain": [
       "LogisticRegression(C=1.0, class_weight=None, dual=False, fit_intercept=True,\n",
       "                   intercept_scaling=1, l1_ratio=None, max_iter=1000,\n",
       "                   multi_class='auto', n_jobs=None, penalty='none',\n",
       "                   random_state=None, solver='lbfgs', tol=0.0001, verbose=0,\n",
       "                   warm_start=False)"
      ]
     },
     "execution_count": 5,
     "metadata": {},
     "output_type": "execute_result"
    }
   ],
   "source": [
    "# Implement logistic regression without regularisation\n",
    "from sklearn.linear_model import LogisticRegression\n",
    "\n",
    "log = LogisticRegression(penalty=\"none\", max_iter=1000, solver='lbfgs')\n",
    "log.fit(X_train, y_train)"
   ]
  },
  {
   "cell_type": "code",
   "execution_count": 6,
   "metadata": {},
   "outputs": [
    {
     "name": "stdout",
     "output_type": "stream",
     "text": [
      "The empirical risk on the training data is 0.0000\n",
      "The empirical risk on the test data is 0.2857\n"
     ]
    }
   ],
   "source": [
    "# Calculate empirical risk using zero-one loss\n",
    "from sklearn.metrics import zero_one_loss\n",
    "\n",
    "zero_one_train = zero_one_loss(y_train, log.predict(X_train), normalize=True) # On training data\n",
    "zero_one_test = zero_one_loss(y_test, log.predict(X_test), normalize=True) # On test data\n",
    "print(f\"The empirical risk on the training data is {zero_one_train:.4f}\")\n",
    "print(f\"The empirical risk on the test data is {zero_one_test:.4f}\")"
   ]
  },
  {
   "cell_type": "code",
   "execution_count": 7,
   "metadata": {},
   "outputs": [
    {
     "name": "stdout",
     "output_type": "stream",
     "text": [
      "The empirical risk on the training data is 0.0000\n",
      "The empirical risk on the test data is 8.7866\n"
     ]
    }
   ],
   "source": [
    "# Calculate empirical risk using logistic loss\n",
    "from sklearn.metrics import log_loss\n",
    "\n",
    "logistic_train = log_loss(y_train, log.predict_proba(X_train), normalize=True) # On training data\n",
    "logistic_test = log_loss(y_test, log.predict_proba(X_test), normalize=True) # On test data\n",
    "print(f\"The empirical risk on the training data is {logistic_train:.4f}\")\n",
    "print(f\"The empirical risk on the test data is {logistic_test:.4f}\")"
   ]
  },
  {
   "cell_type": "code",
   "execution_count": 8,
   "metadata": {},
   "outputs": [],
   "source": [
    "# Implement logistic regression with regularisation\n",
    "\n",
    "# Use different regularisation strengths\n",
    "lambda_list = np.linspace(0.001, 0.25, 100)\n",
    "np.insert(lambda_list, 0, 10^-20) # Add in lambda = 0 (but not exactly zero, or C will be undefined)\n",
    "\n",
    "# Create arrays to store results\n",
    "risk_train_ridge = []\n",
    "risk_test_ridge = []\n",
    "risk_train_lasso = []\n",
    "risk_test_lasso = []\n",
    "\n",
    "n = len(X_train)\n",
    "\n",
    "# Iterate through lambda values\n",
    "for l in lambda_list:\n",
    "    \n",
    "    # Ridge penalty\n",
    "    log_ridge = LogisticRegression(penalty=\"l2\", C=1/(2*l*n), max_iter=1000)\n",
    "    log_ridge.fit(X_train, y_train)\n",
    "    risk_train_ridge.append(log_loss(y_train, log_ridge.predict_proba(X_train), normalize=True))\n",
    "    risk_test_ridge.append(log_loss(y_test, log_ridge.predict_proba(X_test), normalize=True))\n",
    "    \n",
    "    # Lasso penalty\n",
    "    log_lasso = LogisticRegression(penalty=\"l1\", C=1/(l*n), solver=\"saga\", max_iter=5000) # saga supports lasso\n",
    "    log_lasso.fit(X_train, y_train)\n",
    "    risk_train_lasso.append(log_loss(y_train, log_lasso.predict_proba(X_train), normalize=True))\n",
    "    risk_test_lasso.append(log_loss(y_test, log_lasso.predict_proba(X_test), normalize=True))"
   ]
  },
  {
   "cell_type": "code",
   "execution_count": 9,
   "metadata": {},
   "outputs": [
    {
     "data": {
      "image/png": "[encoded data removed]",
      "text/plain": [
       "<Figure size 360x360 with 1 Axes>"
      ]
     },
     "metadata": {
      "needs_background": "light"
     },
     "output_type": "display_data"
    }
   ],
   "source": [
    "# Plot graphs to visualise effect of lambda on empirical risk\n",
    "plt.figure(figsize=(5, 5))\n",
    "plt.plot(lambda_list, risk_train_ridge, label=\"Ridge, Training\", lw=3)\n",
    "plt.plot(lambda_list, risk_test_ridge, label=\"Ridge, Test\", lw=3)\n",
    "plt.plot(lambda_list, risk_train_lasso, label=\"Lasso, Training\", lw=3)\n",
    "plt.plot(lambda_list, risk_test_lasso, label=\"Lasso, Test\", lw=3)\n",
    "plt.xlabel(\"$\\lambda$\", fontsize=14)\n",
    "plt.ylabel(\"Empirical Risk\", fontsize=14)\n",
    "plt.legend(fontsize=12, loc=\"upper center\")\n",
    "plt.title(\"Sonar\", fontsize=14)\n",
    "plt.tight_layout()\n",
    "plt.savefig(\"sonar-logistic.png\")\n",
    "plt.show()"
   ]
  },
  {
   "cell_type": "code",
   "execution_count": 10,
   "metadata": {},
   "outputs": [
    {
     "name": "stdout",
     "output_type": "stream",
     "text": [
      "The best model is ridge penalty with lambda equals 0.0312. The empirical risk is 0.4434 in this case.\n"
     ]
    }
   ],
   "source": [
    "# Find best classifier (ridge penalty if using test data)\n",
    "index = np.argmin(risk_test_ridge)\n",
    "best_lambda = lambda_list[index]\n",
    "best_risk = risk_test_ridge[index]\n",
    "print(f\"The best model is ridge penalty with lambda equals {best_lambda:.4f}. \\\n",
    "The empirical risk is {best_risk:.4f} in this case.\")"
   ]
  },
  {
   "cell_type": "code",
   "execution_count": 11,
   "metadata": {},
   "outputs": [
    {
     "name": "stdout",
     "output_type": "stream",
     "text": [
      "The training risk for the highest performing model was 0.1265\n",
      "The test risk for the highest performing model was 0.1905\n"
     ]
    }
   ],
   "source": [
    "# Calculate zero-one loss for the model which performed highest on the test data\n",
    "log_best = LogisticRegression(penalty=\"l2\", C=1/(2*best_lambda*n), max_iter=1000)\n",
    "log_best.fit(X_train, y_train)\n",
    "zero_one_train = zero_one_loss(y_train, log_best.predict(X_train), normalize=True)\n",
    "zero_one_test = zero_one_loss(y_test, log_best.predict(X_test), normalize=True)\n",
    "\n",
    "# Report results \n",
    "print(f\"The training risk for the highest performing model was {zero_one_train:.4f}\")\n",
    "print(f\"The test risk for the highest performing model was {zero_one_test:.4f}\")"
   ]
  },
  {
   "cell_type": "code",
   "execution_count": 12,
   "metadata": {},
   "outputs": [
    {
     "name": "stdout",
     "output_type": "stream",
     "text": [
      "DEFAULT NEURAL NETWORK:\n",
      "\n",
      "The training risk was: 0.0000\n",
      "The test risk was: 0.2381\n"
     ]
    }
   ],
   "source": [
    "# Classification method 2 – neural network\n",
    "from sklearn.neural_network import MLPClassifier\n",
    "\n",
    "# The default NN in sklearn uses a single hidden layer with 100 neurons, ReLU and L2 regularisation\n",
    "default_nn = MLPClassifier(max_iter=1000, random_state=2083836) \n",
    "default_nn.fit(X_train, y_train)\n",
    "\n",
    "# Calculate empirical risk using zero-one loss\n",
    "zero_one_train = zero_one_loss(y_train, default_nn.predict(X_train), normalize=True)\n",
    "zero_one_test = zero_one_loss(y_test, default_nn.predict(X_test), normalize=True)\n",
    "\n",
    "# Report results\n",
    "print(\"DEFAULT NEURAL NETWORK:\\n\")\n",
    "print(f\"The training risk was: {zero_one_train:.4f}\")\n",
    "print(f\"The test risk was: {zero_one_test:.4f}\")"
   ]
  },
  {
   "cell_type": "code",
   "execution_count": 13,
   "metadata": {
    "scrolled": true
   },
   "outputs": [
    {
     "name": "stdout",
     "output_type": "stream",
     "text": [
      "The best parameters are:\n",
      "\n",
      "{'activation': 'relu', 'alpha': 10, 'hidden_layer_sizes': (100, 100)}\n"
     ]
    }
   ],
   "source": [
    "# Tune hyperparameters using 10-fold cross-validation\n",
    "# GridSearchCV uses accuracy (= 1 - zero-one loss)\n",
    "# Due to long runtimes, only a few configurations will be investigated\n",
    "from sklearn.model_selection import GridSearchCV\n",
    "\n",
    "params = {\"activation\": [\"logistic\", \"relu\"], \n",
    "          \"alpha\": [0.01, 0.1, 1, 10, 100],\n",
    "          \"hidden_layer_sizes\": [(100,), (100, 100)]}\n",
    "clf = GridSearchCV(estimator=MLPClassifier(max_iter=5000, random_state=2083836), param_grid=params, cv=10)\n",
    "clf.fit(X_train, y_train)\n",
    "print(\"The best parameters are:\\n\")\n",
    "print(clf.best_params_)"
   ]
  },
  {
   "cell_type": "code",
   "execution_count": 14,
   "metadata": {},
   "outputs": [
    {
     "name": "stdout",
     "output_type": "stream",
     "text": [
      "TUNED NEURAL NETWORK:\n",
      "\n",
      "The training risk was: 0.0120\n",
      "The test risk was: 0.2619\n"
     ]
    }
   ],
   "source": [
    "# Fit tuned neural network\n",
    "nn = MLPClassifier(activation='relu', alpha=10, hidden_layer_sizes=(100,), max_iter=5000, random_state=2083836) \n",
    "nn.fit(X_train, y_train)\n",
    "\n",
    "# Calculate empirical risk using zero-one loss\n",
    "zero_one_train = zero_one_loss(y_train, nn.predict(X_train), normalize=True)\n",
    "zero_one_test = zero_one_loss(y_test, nn.predict(X_test), normalize=True)\n",
    "\n",
    "# Report results\n",
    "print(\"TUNED NEURAL NETWORK:\\n\")\n",
    "print(f\"The training risk was: {zero_one_train:.4f}\")\n",
    "print(f\"The test risk was: {zero_one_test:.4f}\")\n",
    "\n",
    "# We will use the default hyperparameters because the results are worse after optimisation"
   ]
  },
  {
   "cell_type": "code",
   "execution_count": null,
   "metadata": {},
   "outputs": [],
   "source": []
  }
 ],
 "metadata": {
  "kernelspec": {
   "display_name": "Python 3",
   "language": "python",
   "name": "python3"
  },
  "language_info": {
   "codemirror_mode": {
    "name": "ipython",
    "version": 3
   },
   "file_extension": ".py",
   "mimetype": "text/x-python",
   "name": "python",
   "nbconvert_exporter": "python",
   "pygments_lexer": "ipython3",
   "version": "3.7.6"
  }
 },
 "nbformat": 4,
 "nbformat_minor": 4
}
